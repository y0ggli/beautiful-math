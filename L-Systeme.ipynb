{
 "cells": [
  {
   "cell_type": "code",
   "execution_count": 1,
   "metadata": {},
   "outputs": [
    {
     "data": {
      "application/javascript": [
       "require.undef(\"nbextensions/vpython_libraries/glow.min\");"
      ],
      "text/plain": [
       "<IPython.core.display.Javascript object>"
      ]
     },
     "metadata": {},
     "output_type": "display_data"
    },
    {
     "data": {
      "application/javascript": [
       "require.undef(\"nbextensions/vpython_libraries/glowcomm\");"
      ],
      "text/plain": [
       "<IPython.core.display.Javascript object>"
      ]
     },
     "metadata": {},
     "output_type": "display_data"
    },
    {
     "data": {
      "application/javascript": [
       "require.undef(\"nbextensions/vpython_libraries/jquery-ui.custom.min\");"
      ],
      "text/plain": [
       "<IPython.core.display.Javascript object>"
      ]
     },
     "metadata": {},
     "output_type": "display_data"
    },
    {
     "data": {
      "application/javascript": [
       "require([\"nbextensions/vpython_libraries/glow.min\"], function(){console.log(\"GLOW LOADED\");})"
      ],
      "text/plain": [
       "<IPython.core.display.Javascript object>"
      ]
     },
     "metadata": {},
     "output_type": "display_data"
    },
    {
     "data": {
      "application/javascript": [
       "require([\"nbextensions/vpython_libraries/glowcomm\"], function(){console.log(\"GLOWCOMM LOADED\");})"
      ],
      "text/plain": [
       "<IPython.core.display.Javascript object>"
      ]
     },
     "metadata": {},
     "output_type": "display_data"
    },
    {
     "data": {
      "application/javascript": [
       "require([\"nbextensions/vpython_libraries/jquery-ui.custom.min\"], function(){console.log(\"JQUERY LOADED\");})"
      ],
      "text/plain": [
       "<IPython.core.display.Javascript object>"
      ]
     },
     "metadata": {},
     "output_type": "display_data"
    },
    {
     "data": {
      "text/html": [
       "<div id=\"glowscript\" class=\"glowscript\"></div>"
      ],
      "text/plain": [
       "<IPython.core.display.HTML object>"
      ]
     },
     "metadata": {},
     "output_type": "display_data"
    },
    {
     "data": {
      "application/javascript": [
       "window.__context = { glowscript_container: $(\"#glowscript\").removeAttr(\"id\")}"
      ],
      "text/plain": [
       "<IPython.core.display.Javascript object>"
      ]
     },
     "metadata": {},
     "output_type": "display_data"
    }
   ],
   "source": [
    "from vpython import *\n",
    "from math import *\n",
    "import random"
   ]
  },
  {
   "cell_type": "code",
   "execution_count": 2,
   "metadata": {},
   "outputs": [],
   "source": [
    "def createCanvas():\n",
    "    scene = canvas()\n",
    "    scene.visible = True\n",
    "    return scene"
   ]
  },
  {
   "cell_type": "markdown",
   "metadata": {},
   "source": [
    "## Baum"
   ]
  },
  {
   "cell_type": "code",
   "execution_count": 6,
   "metadata": {},
   "outputs": [
    {
     "data": {
      "text/html": [
       "<div id=\"glowscript\" class=\"glowscript\"></div>"
      ],
      "text/plain": [
       "<IPython.core.display.HTML object>"
      ]
     },
     "metadata": {},
     "output_type": "display_data"
    },
    {
     "data": {
      "application/javascript": [
       "window.__context = { glowscript_container: $(\"#glowscript\").removeAttr(\"id\")}"
      ],
      "text/plain": [
       "<IPython.core.display.Javascript object>"
      ]
     },
     "metadata": {},
     "output_type": "display_data"
    }
   ],
   "source": [
    "def applyRules(leftCharacter):\n",
    "    newString = \"\"\n",
    "    if leftCharacter == 'F':\n",
    "        newString = 'F[-F]F[+F]F'\n",
    "    else:\n",
    "        newString = leftCharacter    \n",
    "\n",
    "    return newString\n",
    "\n",
    "\n",
    "def processString(oldStr):\n",
    "    newstr = \"\"\n",
    "    for ch in oldStr:\n",
    "        newstr = newstr + applyRules(ch)\n",
    "    return newstr\n",
    "\n",
    "def createLSystem(numIters,axiom):\n",
    "    startString = axiom\n",
    "    endString = \"\"\n",
    "    for i in range(numIters):\n",
    "        endString = processString(startString)\n",
    "        startString = endString\n",
    "\n",
    "    return endString\n",
    "\n",
    "\n",
    "tree = createLSystem(3, \"F\")\n",
    "\n",
    "vDirection = vector(0,1,0)\n",
    "vPosition = vector(0,0,0)\n",
    "#c = curve(pos=vector(0,0,0))\n",
    "\n",
    "stack = [(vDirection,vPosition)]\n",
    "\n",
    "def drawLsystem(characters, angle):\n",
    "    global vDirection,vPosition\n",
    "    c = curve(pos=vector(0,0,0))\n",
    "    r = radians(angle)\n",
    "    col = vector(1,1,1)\n",
    "    for cmd in characters:\n",
    "        if cmd == 'F':\n",
    "            newVPosition = vPosition + vDirection\n",
    "            c = curve(pos=vPosition, color=col)\n",
    "            c.append(newVPosition)\n",
    "            vPosition = newVPosition\n",
    "        elif cmd == '+':\n",
    "            vDirection = vDirection.rotate(-r)\n",
    "        elif cmd == '-':\n",
    "            vDirection = vDirection.rotate(r)\n",
    "        elif cmd == '[':\n",
    "            stack.append((vDirection, vPosition))\n",
    "        elif cmd == ']':\n",
    "            vDirection, vPosition = stack.pop();\n",
    "            \n",
    "createCanvas()\n",
    "angle = 25\n",
    "drawLsystem(tree,angle)         "
   ]
  },
  {
   "cell_type": "markdown",
   "metadata": {},
   "source": [
    "## Baum 2"
   ]
  },
  {
   "cell_type": "code",
   "execution_count": 4,
   "metadata": {},
   "outputs": [
    {
     "data": {
      "text/html": [
       "<div id=\"glowscript\" class=\"glowscript\"></div>"
      ],
      "text/plain": [
       "<IPython.core.display.HTML object>"
      ]
     },
     "metadata": {},
     "output_type": "display_data"
    },
    {
     "data": {
      "application/javascript": [
       "window.__context = { glowscript_container: $(\"#glowscript\").removeAttr(\"id\")}"
      ],
      "text/plain": [
       "<IPython.core.display.Javascript object>"
      ]
     },
     "metadata": {},
     "output_type": "display_data"
    }
   ],
   "source": [
    "def applyRules(leftCharacter):\n",
    "    newString = \"\"\n",
    "    if leftCharacter == 'F':\n",
    "        newString = 'FF+[+F-F-F]-[-F+F+F]'\n",
    "    else:\n",
    "        newString = leftCharacter    \n",
    "\n",
    "    return newString\n",
    "\n",
    "\n",
    "def processString(oldStr):\n",
    "    newstr = \"\"\n",
    "    for ch in oldStr:\n",
    "        newstr = newstr + applyRules(ch)\n",
    "    return newstr\n",
    "\n",
    "def createLSystem(numIters,axiom):\n",
    "    startString = axiom\n",
    "    endString = \"\"\n",
    "    for i in range(numIters):\n",
    "        endString = processString(startString)\n",
    "        startString = endString\n",
    "\n",
    "    return endString\n",
    "\n",
    "\n",
    "tree = createLSystem(3, \"F\")\n",
    "\n",
    "vDirection = vector(0,1,0)\n",
    "vPosition = vector(0,0,0)\n",
    "#c = curve(pos=vector(0,0,0))\n",
    "\n",
    "stack = [(vDirection,vPosition)]\n",
    "\n",
    "def drawLsystem(characters, angle):\n",
    "    global vDirection,vPosition\n",
    "    c = curve(pos=vector(0,0,0))\n",
    "    r = radians(angle)\n",
    "    col = vector(0.6,0.3,0)\n",
    "    for cmd in characters:\n",
    "        if cmd == 'F':\n",
    "            vDirection.z=random.uniform(-2.0,2.0)\n",
    "            newVPosition = vPosition + vDirection\n",
    "            c = curve(pos=vPosition, color=col)\n",
    "            c.append(newVPosition)\n",
    "            vPosition = newVPosition\n",
    "        elif cmd == '+':\n",
    "            vDirection = vDirection.rotate(-r)\n",
    "        elif cmd == '-':\n",
    "            vDirection = vDirection.rotate(r)\n",
    "        elif cmd == '[':\n",
    "            stack.append((vDirection, vPosition))\n",
    "        elif cmd == ']':\n",
    "            vDirection, vPosition = stack.pop();\n",
    "            \n",
    "createCanvas()\n",
    "angle = 25\n",
    "drawLsystem(tree,angle)"
   ]
  },
  {
   "cell_type": "markdown",
   "metadata": {},
   "source": [
    "## Baum 3"
   ]
  },
  {
   "cell_type": "code",
   "execution_count": 5,
   "metadata": {},
   "outputs": [
    {
     "data": {
      "text/html": [
       "<div id=\"glowscript\" class=\"glowscript\"></div>"
      ],
      "text/plain": [
       "<IPython.core.display.HTML object>"
      ]
     },
     "metadata": {},
     "output_type": "display_data"
    },
    {
     "data": {
      "application/javascript": [
       "window.__context = { glowscript_container: $(\"#glowscript\").removeAttr(\"id\")}"
      ],
      "text/plain": [
       "<IPython.core.display.Javascript object>"
      ]
     },
     "metadata": {},
     "output_type": "display_data"
    }
   ],
   "source": [
    "def applyRules(leftCharacter):\n",
    "    newString = \"\"\n",
    "    if leftCharacter == 'F':\n",
    "        newString = 'FF'\n",
    "    elif leftCharacter == 'X':   \n",
    "        newString = 'F[+X]F[-X]+X'\n",
    "    else:\n",
    "        newString = leftCharacter    \n",
    "\n",
    "    return newString\n",
    "\n",
    "\n",
    "def processString(oldStr):\n",
    "    newstr = \"\"\n",
    "    for ch in oldStr:\n",
    "        newstr = newstr + applyRules(ch)\n",
    "    return newstr\n",
    "\n",
    "def createLSystem(numIters,axiom):\n",
    "    startString = axiom\n",
    "    endString = \"\"\n",
    "    for i in range(numIters):\n",
    "        endString = processString(startString)\n",
    "        startString = endString\n",
    "\n",
    "    return endString\n",
    "\n",
    "tree = createLSystem(5, \"X\")\n",
    "\n",
    "vDirection = vector(0,1,0)\n",
    "vPosition = vector(0,0,0)\n",
    "#c = curve(pos=vector(0,0,0))\n",
    "\n",
    "stack = [(vDirection,vPosition)]\n",
    "\n",
    "def drawLsystem(characters, angle):\n",
    "    global vDirection,vPosition\n",
    "    c = curve(pos=vector(0,0,0))\n",
    "    r = radians(angle)\n",
    "    col = vector(0.6,0.3,0)\n",
    "    for cmd in characters:\n",
    "        if cmd == 'F':\n",
    "            col = vector(0.6,0.3,0)\n",
    "            newVPosition = vPosition + vDirection\n",
    "            c = curve(pos=vPosition, color=col)\n",
    "            c.append(newVPosition)\n",
    "            vPosition = newVPosition\n",
    "        elif cmd == 'X':\n",
    "            col = vector(0,1,0)\n",
    "            newVPosition = vPosition + vDirection\n",
    "            c = curve(pos=vPosition, color=col)\n",
    "            c.append(newVPosition)\n",
    "            vPosition = newVPosition\n",
    "        elif cmd == '+':\n",
    "            vDirection = vDirection.rotate(-r)\n",
    "        elif cmd == '-':\n",
    "            vDirection = vDirection.rotate(r)\n",
    "        elif cmd == '[':\n",
    "            stack.append((vDirection, vPosition))\n",
    "        elif cmd == ']':\n",
    "            vDirection, vPosition = stack.pop();\n",
    "            \n",
    "            \n",
    "createCanvas()\n",
    "angle = 20\n",
    "drawLsystem(tree,angle)            "
   ]
  },
  {
   "cell_type": "markdown",
   "metadata": {},
   "source": [
    "## Baum 4"
   ]
  },
  {
   "cell_type": "code",
   "execution_count": 6,
   "metadata": {},
   "outputs": [
    {
     "data": {
      "text/html": [
       "<div id=\"glowscript\" class=\"glowscript\"></div>"
      ],
      "text/plain": [
       "<IPython.core.display.HTML object>"
      ]
     },
     "metadata": {},
     "output_type": "display_data"
    },
    {
     "data": {
      "application/javascript": [
       "window.__context = { glowscript_container: $(\"#glowscript\").removeAttr(\"id\")}"
      ],
      "text/plain": [
       "<IPython.core.display.Javascript object>"
      ]
     },
     "metadata": {},
     "output_type": "display_data"
    }
   ],
   "source": [
    "def applyRules(leftCharacter):\n",
    "    newString = \"\"\n",
    "    if leftCharacter == 'F':\n",
    "        newString = 'FF'\n",
    "    elif leftCharacter == 'X':   \n",
    "        newString = 'F[--X][+X]-X'\n",
    "    else:\n",
    "        newString = leftCharacter    \n",
    "\n",
    "    return newString\n",
    "\n",
    "\n",
    "def processString(oldStr):\n",
    "    newstr = \"\"\n",
    "    for ch in oldStr:\n",
    "        newstr = newstr + applyRules(ch)\n",
    "    return newstr\n",
    "\n",
    "def createLSystem(numIters,axiom):\n",
    "    startString = axiom\n",
    "    endString = \"\"\n",
    "    for i in range(numIters):\n",
    "        endString = processString(startString)\n",
    "        startString = endString\n",
    "\n",
    "    return endString\n",
    "\n",
    "tree = createLSystem(5, \"X\")\n",
    "\n",
    "vDirection = vector(0,1,0)\n",
    "vPosition = vector(0,0,0)\n",
    "#c = curve(pos=vector(0,0,0))\n",
    "\n",
    "stack = [(vDirection,vPosition)]\n",
    "\n",
    "def drawLsystem(characters, angle):\n",
    "    global vDirection,vPosition\n",
    "    c = curve(pos=vector(0,0,0))\n",
    "    r = radians(angle)\n",
    "    col = vector(0.6,0.3,0)\n",
    "    for cmd in characters:\n",
    "        if cmd == 'F':\n",
    "            col = vector(0.6,0.3,0)\n",
    "            newVPosition = vPosition + vDirection\n",
    "            c = curve(pos=vPosition, color=col)\n",
    "            c.append(newVPosition)\n",
    "            vPosition = newVPosition\n",
    "        elif cmd == 'X':\n",
    "            col = vector(0,1,0)\n",
    "            vDirection.z=random.uniform(-1.0,1.0)\n",
    "            newVPosition = vPosition + vDirection\n",
    "            c = curve(pos=vPosition, color=col)\n",
    "            c.append(newVPosition)\n",
    "            vPosition = newVPosition\n",
    "        elif cmd == '+':\n",
    "            vDirection = vDirection.rotate(-r)\n",
    "        elif cmd == '-':\n",
    "            vDirection = vDirection.rotate(r)\n",
    "        elif cmd == '[':\n",
    "            stack.append((vDirection, vPosition))\n",
    "        elif cmd == ']':\n",
    "            vDirection, vPosition = stack.pop();\n",
    "    \n",
    "            \n",
    "createCanvas()\n",
    "angle = 20\n",
    "drawLsystem(tree,angle) "
   ]
  },
  {
   "cell_type": "markdown",
   "metadata": {},
   "source": [
    "##  Baum 5"
   ]
  },
  {
   "cell_type": "code",
   "execution_count": 7,
   "metadata": {},
   "outputs": [
    {
     "data": {
      "text/html": [
       "<div id=\"glowscript\" class=\"glowscript\"></div>"
      ],
      "text/plain": [
       "<IPython.core.display.HTML object>"
      ]
     },
     "metadata": {},
     "output_type": "display_data"
    },
    {
     "data": {
      "application/javascript": [
       "window.__context = { glowscript_container: $(\"#glowscript\").removeAttr(\"id\")}"
      ],
      "text/plain": [
       "<IPython.core.display.Javascript object>"
      ]
     },
     "metadata": {},
     "output_type": "display_data"
    }
   ],
   "source": [
    "def applyRules(leftCharacter):\n",
    "    newString = \"\"\n",
    "    if leftCharacter == 'F':\n",
    "        newString = 'FF'\n",
    "    elif leftCharacter == 'X':   \n",
    "        newString = 'F+[[X]-X]-F[-FX]+X'\n",
    "    else:\n",
    "        newString = leftCharacter    \n",
    "\n",
    "    return newString\n",
    "\n",
    "\n",
    "def processString(oldStr):\n",
    "    newstr = \"\"\n",
    "    for ch in oldStr:\n",
    "        newstr = newstr + applyRules(ch)\n",
    "    return newstr\n",
    "\n",
    "def createLSystem(numIters,axiom):\n",
    "    startString = axiom\n",
    "    endString = \"\"\n",
    "    for i in range(numIters):\n",
    "        endString = processString(startString)\n",
    "        startString = endString\n",
    "\n",
    "    return endString\n",
    "\n",
    "tree = createLSystem(5, \"X\")\n",
    "\n",
    "vDirection = vector(0,1,0)\n",
    "vPosition = vector(0,0,0)\n",
    "#c = curve(pos=vector(0,0,0))\n",
    "\n",
    "stack = [(vDirection,vPosition)]\n",
    "\n",
    "def drawLsystem(characters, angle):\n",
    "    global vDirection,vPosition\n",
    "    c = curve(pos=vector(0,0,0))\n",
    "    r = radians(angle)\n",
    "    col = vector(0,1,0)\n",
    "    for cmd in characters:\n",
    "        if cmd == 'F':\n",
    "            newVPosition = vPosition + vDirection\n",
    "            c = curve(pos=vPosition, color=col)\n",
    "            c.append(newVPosition)\n",
    "            vPosition = newVPosition\n",
    "        elif cmd == '+':\n",
    "            vDirection = vDirection.rotate(-r)\n",
    "        elif cmd == '-':\n",
    "            vDirection = vDirection.rotate(r)\n",
    "        elif cmd == '[':\n",
    "            stack.append((vDirection, vPosition))\n",
    "        elif cmd == ']':\n",
    "            vDirection, vPosition = stack.pop();\n",
    "            \n",
    "createCanvas()\n",
    "angle = 25\n",
    "drawLsystem(tree,angle) "
   ]
  },
  {
   "cell_type": "markdown",
   "metadata": {},
   "source": [
    "## Dragoncurve"
   ]
  },
  {
   "cell_type": "code",
   "execution_count": 8,
   "metadata": {},
   "outputs": [
    {
     "data": {
      "text/html": [
       "<div id=\"glowscript\" class=\"glowscript\"></div>"
      ],
      "text/plain": [
       "<IPython.core.display.HTML object>"
      ]
     },
     "metadata": {},
     "output_type": "display_data"
    },
    {
     "data": {
      "application/javascript": [
       "window.__context = { glowscript_container: $(\"#glowscript\").removeAttr(\"id\")}"
      ],
      "text/plain": [
       "<IPython.core.display.Javascript object>"
      ]
     },
     "metadata": {},
     "output_type": "display_data"
    }
   ],
   "source": [
    "def applyRules(leftCharacter):\n",
    "    newString = \"\"\n",
    "    if leftCharacter == 'X':\n",
    "        newString = 'X+YF+'\n",
    "    elif leftCharacter == 'Y':   \n",
    "        newString = '-FX-Y'\n",
    "    else:\n",
    "        newString = leftCharacter    \n",
    "\n",
    "    return newString\n",
    "\n",
    "def processString(oldStr):\n",
    "    newstr = \"\"\n",
    "    for ch in oldStr:\n",
    "        newstr = newstr + applyRules(ch)\n",
    "    return newstr\n",
    "\n",
    "def createLSystem(numIters,axiom):\n",
    "    startString = axiom\n",
    "    endString = \"\"\n",
    "    for i in range(numIters):\n",
    "        endString = processString(startString)\n",
    "        startString = endString\n",
    "\n",
    "    return endString\n",
    "\n",
    "vDirection = vector(0,1,0)\n",
    "vPosition = vector(0,0,0)\n",
    "#c = curve(pos=vector(0,0,0))\n",
    "\n",
    "stack = [(vDirection,vPosition)]\n",
    "\n",
    "def drawLsystem(characters, angle):\n",
    "    global vDirection,vPosition\n",
    "    c = curve(pos=vector(0,0,0))\n",
    "    r = radians(angle)\n",
    "    col = vector(1,1,1)\n",
    "    for cmd in characters:\n",
    "        if cmd == 'F':\n",
    "            newVPosition = vPosition + vDirection\n",
    "            c = curve(pos=vPosition, color=col)\n",
    "            c.append(newVPosition)\n",
    "            vPosition = newVPosition\n",
    "            #col = vector(random.random(),random.random(),random.random())\n",
    "        elif cmd == '+':\n",
    "            vDirection = vDirection.rotate(-r)\n",
    "        elif cmd == '-':\n",
    "            vDirection = vDirection.rotate(r)\n",
    "        elif cmd == '[':\n",
    "            stack.append((vDirection, vPosition))\n",
    "        elif cmd == ']':\n",
    "            vDirection, vPosition = stack.pop();\n",
    "            \n",
    "\n",
    "dragon = createLSystem(15, \"FX\")\n",
    "\n",
    "createCanvas()\n",
    "angle = 90\n",
    "drawLsystem(dragon,angle)"
   ]
  },
  {
   "cell_type": "markdown",
   "metadata": {},
   "source": [
    "## Dragon 2"
   ]
  },
  {
   "cell_type": "code",
   "execution_count": 3,
   "metadata": {
    "scrolled": true
   },
   "outputs": [
    {
     "data": {
      "text/html": [
       "<div id=\"glowscript\" class=\"glowscript\"></div>"
      ],
      "text/plain": [
       "<IPython.core.display.HTML object>"
      ]
     },
     "metadata": {},
     "output_type": "display_data"
    },
    {
     "data": {
      "application/javascript": [
       "window.__context = { glowscript_container: $(\"#glowscript\").removeAttr(\"id\")}"
      ],
      "text/plain": [
       "<IPython.core.display.Javascript object>"
      ]
     },
     "metadata": {},
     "output_type": "display_data"
    }
   ],
   "source": [
    "def applyRules(leftCharacter):\n",
    "    newString = \"\"\n",
    "    if leftCharacter == 'F':\n",
    "        newString = 'F+F-F'\n",
    "    else:\n",
    "        newString = leftCharacter    \n",
    "\n",
    "    return newString\n",
    "\n",
    "\n",
    "def processString(oldStr):\n",
    "    newstr = \"\"\n",
    "    for ch in oldStr:\n",
    "        newstr = newstr + applyRules(ch)\n",
    "    return newstr\n",
    "\n",
    "def createLSystem(numIters,axiom):\n",
    "    startString = axiom\n",
    "    endString = \"\"\n",
    "    for i in range(numIters):\n",
    "        endString = processString(startString)\n",
    "        startString = endString\n",
    "\n",
    "    return endString\n",
    "\n",
    "vDirection = vector(0,1,0)\n",
    "vPosition = vector(0,0,0)\n",
    "#c = curve(pos=vector(0,0,0))\n",
    "\n",
    "stack = [(vDirection,vPosition)]\n",
    "\n",
    "def drawLsystem(characters, angle):\n",
    "    global vDirection,vPosition\n",
    "    c = curve(pos=vector(0,0,0))\n",
    "    r = radians(angle)\n",
    "    col = vector(0,0,1)\n",
    "    for cmd in characters:\n",
    "        if cmd == 'F':\n",
    "            newVPosition = vPosition + vDirection\n",
    "            c = curve(pos=vPosition, color=col)\n",
    "            c.append(newVPosition)\n",
    "            vPosition = newVPosition\n",
    "        elif cmd == '+':\n",
    "            vDirection = vDirection.rotate(-r)\n",
    "            col = vector(0,0,0)\n",
    "        elif cmd == '-':\n",
    "            vDirection = vDirection.rotate(r)\n",
    "            col = vector(0,0,1)\n",
    "        elif cmd == '[':\n",
    "            stack.append((vDirection, vPosition))\n",
    "        elif cmd == ']':\n",
    "            vDirection, vPosition = stack.pop();\n",
    "\n",
    "tree = createLSystem(8, \"F\")\n",
    "\n",
    "createCanvas()\n",
    "angle = 120\n",
    "drawLsystem(tree,angle)"
   ]
  },
  {
   "cell_type": "markdown",
   "metadata": {},
   "source": [
    "## Sqaure"
   ]
  },
  {
   "cell_type": "code",
   "execution_count": 11,
   "metadata": {},
   "outputs": [
    {
     "data": {
      "text/html": [
       "<div id=\"glowscript\" class=\"glowscript\"></div>"
      ],
      "text/plain": [
       "<IPython.core.display.HTML object>"
      ]
     },
     "metadata": {},
     "output_type": "display_data"
    },
    {
     "data": {
      "application/javascript": [
       "window.__context = { glowscript_container: $(\"#glowscript\").removeAttr(\"id\")}"
      ],
      "text/plain": [
       "<IPython.core.display.Javascript object>"
      ]
     },
     "metadata": {},
     "output_type": "display_data"
    }
   ],
   "source": [
    "vDirection = vector(0,0,1)\n",
    "vPosition = vector(0,0,0)\n",
    "#c = curve(pos=vector(0,0,0))\n",
    "\n",
    "stack = [(vDirection,vPosition)]\n",
    "\n",
    "def drawLsystem(characters, angle):\n",
    "    global vDirection,vPosition\n",
    "    c = curve(pos=vector(0,0,0))\n",
    "    r = radians(angle)\n",
    "    col = vector(1,1,1)\n",
    "    for cmd in characters:\n",
    "        if cmd == 'F':\n",
    "            newVPosition = vPosition + norm(vDirection)\n",
    "            c = curve(pos=vPosition, color=col)\n",
    "            c.append(newVPosition)\n",
    "            vPosition = newVPosition\n",
    "        elif cmd == '+':\n",
    "            vDirection = vDirection.rotate(angle=-r, axis=vector(0,0,1))\n",
    "        elif cmd == '-':\n",
    "            vDirection = vDirection.rotate(angle=r, axis=vector(0,0,1))\n",
    "        elif cmd == '>':\n",
    "            vDirection = vDirection.rotate(angle=r, axis=vector(1,0,0))\n",
    "        elif cmd == '<':\n",
    "            vDirection = vDirection.rotate(angle=-r, axis=vector(1,0,0))\n",
    "        elif cmd == '&':\n",
    "            vDirection = vDirection.rotate(angle=-r, axis=vector(0,1,0))\n",
    "        elif cmd == '^':\n",
    "            vDirection = vDirection.rotate(angle=r, axis=vector(0,1,0))\n",
    "        elif cmd == '|':\n",
    "            vDirection = vDirection.rotate(angle=radians(180), axis=vector(0,0,1))    \n",
    "        elif cmd == '[':\n",
    "            stack.append((vDirection, vPosition))\n",
    "        elif cmd == ']':\n",
    "            vDirection, vPosition = stack.pop();\n",
    "            \n",
    "\n",
    "            \n",
    "            \n",
    "def applyRules(leftCharacter):\n",
    "    newString = \"\"\n",
    "    if leftCharacter == 'X':\n",
    "        newString = '^<XF^<XFX-F^>>XFX&F+>>XFX-F>X->'\n",
    "        \n",
    "    else:\n",
    "        newString = leftCharacter     \n",
    "\n",
    "    return newString\n",
    "\n",
    "\n",
    "def processString(oldStr):\n",
    "    newstr = \"\"\n",
    "    for ch in oldStr:\n",
    "        newstr = newstr + applyRules(ch)\n",
    "    return newstr\n",
    "\n",
    "def createLSystem(numIters,axiom):\n",
    "    startString = axiom\n",
    "    endString = \"\"\n",
    "    for i in range(numIters):\n",
    "        endString = processString(startString)\n",
    "        startString = endString\n",
    "\n",
    "    return endString\n",
    "\n",
    "square = createLSystem(1, \"X\")\n",
    "\n",
    "createCanvas()\n",
    "angle = 90\n",
    "drawLsystem(square,angle)"
   ]
  },
  {
   "cell_type": "markdown",
   "metadata": {},
   "source": [
    "## Sierpinski triangle"
   ]
  },
  {
   "cell_type": "code",
   "execution_count": 11,
   "metadata": {},
   "outputs": [
    {
     "data": {
      "text/html": [
       "<div id=\"glowscript\" class=\"glowscript\"></div>"
      ],
      "text/plain": [
       "<IPython.core.display.HTML object>"
      ]
     },
     "metadata": {},
     "output_type": "display_data"
    },
    {
     "data": {
      "application/javascript": [
       "window.__context = { glowscript_container: $(\"#glowscript\").removeAttr(\"id\")}"
      ],
      "text/plain": [
       "<IPython.core.display.Javascript object>"
      ]
     },
     "metadata": {},
     "output_type": "display_data"
    }
   ],
   "source": [
    "vDirection = vector(0,1,0)\n",
    "vPosition = vector(0,0,0)\n",
    "#c = curve(pos=vector(0,0,0))\n",
    "\n",
    "stack = [(vDirection,vPosition)]\n",
    "\n",
    "def drawLsystem(characters, angle):\n",
    "    global vDirection,vPosition\n",
    "    c = curve(pos=vector(0,0,0))\n",
    "    r = radians(angle)\n",
    "    col = vector(1,1,1)\n",
    "    for cmd in characters:\n",
    "        if cmd == 'A':\n",
    "            newVPosition = vPosition + vDirection\n",
    "            c = curve(pos=vPosition, color=col)\n",
    "            c.append(newVPosition)\n",
    "            vPosition = newVPosition\n",
    "        elif cmd == 'B':\n",
    "            col = vector(random.random(),random.random(),random.random())\n",
    "            newVPosition = vPosition + vDirection\n",
    "            c = curve(pos=vPosition, color=col)\n",
    "            c.append(newVPosition)\n",
    "            vPosition = newVPosition\n",
    "        elif cmd == '+':\n",
    "            vDirection = vDirection.rotate(-r)\n",
    "        elif cmd == '-':\n",
    "            vDirection = vDirection.rotate(r)\n",
    "        elif cmd == '[':\n",
    "            stack.append((vDirection, vPosition))\n",
    "        elif cmd == ']':\n",
    "            vDirection, vPosition = stack.pop();\n",
    "            \n",
    "            \n",
    "def applyRules(leftCharacter):\n",
    "    newString = \"\"\n",
    "    if leftCharacter == 'A':\n",
    "        newString = 'B-A-B'\n",
    "    elif leftCharacter == 'B':   \n",
    "        newString = 'A+B+A'\n",
    "    else:\n",
    "        newString = leftCharacter    \n",
    "\n",
    "    return newString\n",
    "\n",
    "\n",
    "def processString(oldStr):\n",
    "    newstr = \"\"\n",
    "    for ch in oldStr:\n",
    "        newstr = newstr + applyRules(ch)\n",
    "    return newstr\n",
    "\n",
    "def createLSystem(numIters,axiom):\n",
    "    startString = axiom\n",
    "    endString = \"\"\n",
    "    for i in range(numIters):\n",
    "        endString = processString(startString)\n",
    "        startString = endString\n",
    "\n",
    "    return endString\n",
    "\n",
    "triangle = createLSystem(8, \"A\")\n",
    "\n",
    "createCanvas()\n",
    "angle = 60\n",
    "drawLsystem(triangle,angle)"
   ]
  },
  {
   "cell_type": "code",
   "execution_count": null,
   "metadata": {},
   "outputs": [],
   "source": []
  },
  {
   "cell_type": "code",
   "execution_count": null,
   "metadata": {},
   "outputs": [],
   "source": []
  }
 ],
 "metadata": {
  "kernelspec": {
   "display_name": "VPython",
   "language": "python",
   "name": "vpython"
  },
  "language_info": {
   "codemirror_mode": {
    "name": "ipython",
    "version": 3
   },
   "file_extension": ".py",
   "mimetype": "text/x-python",
   "name": "python",
   "nbconvert_exporter": "python",
   "pygments_lexer": "ipython3",
   "version": "3.6.4"
  }
 },
 "nbformat": 4,
 "nbformat_minor": 2
}
