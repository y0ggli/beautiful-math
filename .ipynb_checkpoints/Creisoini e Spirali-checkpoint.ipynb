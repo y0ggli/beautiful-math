{
 "cells": [
  {
   "cell_type": "code",
   "execution_count": 1,
   "metadata": {},
   "outputs": [
    {
     "data": {
      "application/javascript": [
       "require.undef(\"nbextensions/vpython_libraries/glow.min\");"
      ],
      "text/plain": [
       "<IPython.core.display.Javascript object>"
      ]
     },
     "metadata": {},
     "output_type": "display_data"
    },
    {
     "data": {
      "application/javascript": [
       "require.undef(\"nbextensions/vpython_libraries/glowcomm\");"
      ],
      "text/plain": [
       "<IPython.core.display.Javascript object>"
      ]
     },
     "metadata": {},
     "output_type": "display_data"
    },
    {
     "data": {
      "application/javascript": [
       "require.undef(\"nbextensions/vpython_libraries/jquery-ui.custom.min\");"
      ],
      "text/plain": [
       "<IPython.core.display.Javascript object>"
      ]
     },
     "metadata": {},
     "output_type": "display_data"
    },
    {
     "data": {
      "application/javascript": [
       "require([\"nbextensions/vpython_libraries/glow.min\"], function(){console.log(\"GLOW LOADED\");})"
      ],
      "text/plain": [
       "<IPython.core.display.Javascript object>"
      ]
     },
     "metadata": {},
     "output_type": "display_data"
    },
    {
     "data": {
      "application/javascript": [
       "require([\"nbextensions/vpython_libraries/glowcomm\"], function(){console.log(\"GLOWCOMM LOADED\");})"
      ],
      "text/plain": [
       "<IPython.core.display.Javascript object>"
      ]
     },
     "metadata": {},
     "output_type": "display_data"
    },
    {
     "data": {
      "application/javascript": [
       "require([\"nbextensions/vpython_libraries/jquery-ui.custom.min\"], function(){console.log(\"JQUERY LOADED\");})"
      ],
      "text/plain": [
       "<IPython.core.display.Javascript object>"
      ]
     },
     "metadata": {},
     "output_type": "display_data"
    },
    {
     "data": {
      "text/html": [
       "<div id=\"glowscript\" class=\"glowscript\"></div>"
      ],
      "text/plain": [
       "<IPython.core.display.HTML object>"
      ]
     },
     "metadata": {},
     "output_type": "display_data"
    },
    {
     "data": {
      "application/javascript": [
       "window.__context = { glowscript_container: $(\"#glowscript\").removeAttr(\"id\")}"
      ],
      "text/plain": [
       "<IPython.core.display.Javascript object>"
      ]
     },
     "metadata": {},
     "output_type": "display_data"
    }
   ],
   "source": [
    "from vpython import *\n",
    "from math import *"
   ]
  },
  {
   "cell_type": "code",
   "execution_count": 2,
   "metadata": {},
   "outputs": [],
   "source": [
    "def createCanvas():\n",
    "    scene = canvas()\n",
    "    scene.visible = True\n",
    "    return scene"
   ]
  },
  {
   "cell_type": "markdown",
   "metadata": {},
   "source": [
    "## Circle"
   ]
  },
  {
   "cell_type": "code",
   "execution_count": null,
   "metadata": {},
   "outputs": [],
   "source": [
    "createCanvas()\n",
    "c = curve()\n",
    "for a in range(0,361):\n",
    "    a = radians(a)\n",
    "    x = cos(a)\n",
    "    y = sin(a) \n",
    "    v = vector(x,y,0)\n",
    "    c.append(v)"
   ]
  },
  {
   "cell_type": "markdown",
   "metadata": {},
   "source": [
    "## Archimedische Spirale"
   ]
  },
  {
   "cell_type": "code",
   "execution_count": null,
   "metadata": {
    "scrolled": true
   },
   "outputs": [],
   "source": [
    "createCanvas()\n",
    "c = curve()\n",
    "for a in range(0,1000):\n",
    "    r = radians(a)\n",
    "    x = 1 * r * cos(r)\n",
    "    y = 1 * r * sin(r) \n",
    "    v = vector(x,y,0)\n",
    "    c.append(v)"
   ]
  },
  {
   "cell_type": "markdown",
   "metadata": {},
   "source": [
    "## Logarithmische Spirale"
   ]
  },
  {
   "cell_type": "code",
   "execution_count": 3,
   "metadata": {},
   "outputs": [
    {
     "data": {
      "text/html": [
       "<div id=\"glowscript\" class=\"glowscript\"></div>"
      ],
      "text/plain": [
       "<IPython.core.display.HTML object>"
      ]
     },
     "metadata": {},
     "output_type": "display_data"
    },
    {
     "data": {
      "application/javascript": [
       "window.__context = { glowscript_container: $(\"#glowscript\").removeAttr(\"id\")}"
      ],
      "text/plain": [
       "<IPython.core.display.Javascript object>"
      ]
     },
     "metadata": {},
     "output_type": "display_data"
    }
   ],
   "source": [
    "createCanvas()\n",
    "c = curve()\n",
    "rounds = 6\n",
    "steps = 90\n",
    "oldsteps = 0\n",
    "newsteps = steps\n",
    "for k in range(0,rounds):\n",
    "    for a in range(oldsteps,newsteps):\n",
    "        r = radians(a)\n",
    "        const = 0.2\n",
    "        x = pow(e,const*r) * cos(r)\n",
    "        y = pow(e,const*r) * sin(r) \n",
    "        v = vector(x,y,0)\n",
    "        c.append(v)\n",
    "    oldsteps = newsteps;\n",
    "    newsteps = newsteps + steps"
   ]
  },
  {
   "cell_type": "markdown",
   "metadata": {},
   "source": [
    "## Goldene Spirale"
   ]
  },
  {
   "cell_type": "code",
   "execution_count": 7,
   "metadata": {
    "scrolled": true
   },
   "outputs": [
    {
     "data": {
      "text/html": [
       "<div id=\"glowscript\" class=\"glowscript\"></div>"
      ],
      "text/plain": [
       "<IPython.core.display.HTML object>"
      ]
     },
     "metadata": {},
     "output_type": "display_data"
    },
    {
     "data": {
      "application/javascript": [
       "window.__context = { glowscript_container: $(\"#glowscript\").removeAttr(\"id\")}"
      ],
      "text/plain": [
       "<IPython.core.display.Javascript object>"
      ]
     },
     "metadata": {},
     "output_type": "display_data"
    }
   ],
   "source": [
    "createCanvas()\n",
    "def fibBinet(n):\n",
    "    phi = (1 + 5**0.5)/2.0\n",
    "    return int(round((phi**n - (1-phi)**n) / 5**0.5))\n",
    "\n",
    "c = curve()\n",
    "col = color.white\n",
    "count = 2\n",
    "f = 1\n",
    "vx = 0\n",
    "vy = 0\n",
    "for i in range(0, 720):\n",
    "    if i % 90 == 0:\n",
    "        if count % 4 == 1:\n",
    "            vx += fibBinet(count-1)\n",
    "            col = color.red\n",
    "        if count % 4 == 2:\n",
    "            vy += -fibBinet(count-1)\n",
    "            col = color.green\n",
    "        if count % 4 == 3:\n",
    "            vx += -fibBinet(count-1)\n",
    "            col = color.blue\n",
    "        if count % 4 == 0:\n",
    "            vy += fibBinet(count-1)\n",
    "            col = color.yellow\n",
    "        count = count + 1\n",
    "        f = fibBinet(count)\n",
    "    a = radians(i)\n",
    "    x = (f * sin(a)) + vx\n",
    "    y = (f * cos(a)) + vy\n",
    "    c.append(vector(x, y, 0), color=col)"
   ]
  },
  {
   "cell_type": "markdown",
   "metadata": {},
   "source": [
    "## 3D Spirale"
   ]
  },
  {
   "cell_type": "code",
   "execution_count": null,
   "metadata": {
    "scrolled": true
   },
   "outputs": [
    {
     "data": {
      "text/html": [
       "<div id=\"glowscript\" class=\"glowscript\"></div>"
      ],
      "text/plain": [
       "<IPython.core.display.HTML object>"
      ]
     },
     "metadata": {},
     "output_type": "display_data"
    },
    {
     "data": {
      "application/javascript": [
       "window.__context = { glowscript_container: $(\"#glowscript\").removeAttr(\"id\")}"
      ],
      "text/plain": [
       "<IPython.core.display.Javascript object>"
      ]
     },
     "metadata": {},
     "output_type": "display_data"
    }
   ],
   "source": [
    "createCanvas()\n",
    "c = curve()\n",
    "rounds = 6\n",
    "steps = 360\n",
    "oldsteps = 0\n",
    "newsteps = steps\n",
    "circ = shapes.circle(radius=5, thickness = 0.2)\n",
    "curvepath = []\n",
    "for k in range(0,rounds):\n",
    "    for a in range(oldsteps,newsteps):\n",
    "        r = radians(a)\n",
    "        const = 0.2\n",
    "        x = pow(e,const*r) * cos(r)\n",
    "        y = pow(e,const*r) * sin(r)\n",
    "        z = pow(e,const*r)\n",
    "        v = vector(x,y,z)\n",
    "        curvepath.append(v)\n",
    "    oldsteps = newsteps;\n",
    "    newsteps = newsteps + steps\n",
    "extrusion(path=curvepath, shape=circ,pos=vec(-1,0,0), axis=vec(0,0,1))"
   ]
  },
  {
   "cell_type": "code",
   "execution_count": 16,
   "metadata": {},
   "outputs": [
    {
     "data": {
      "text/html": [
       "<div id=\"glowscript\" class=\"glowscript\"></div>"
      ],
      "text/plain": [
       "<IPython.core.display.HTML object>"
      ]
     },
     "metadata": {},
     "output_type": "display_data"
    },
    {
     "data": {
      "application/javascript": [
       "window.__context = { glowscript_container: $(\"#glowscript\").removeAttr(\"id\")}"
      ],
      "text/plain": [
       "<IPython.core.display.Javascript object>"
      ]
     },
     "metadata": {},
     "output_type": "display_data"
    }
   ],
   "source": [
    "createCanvas()\n",
    "c = curve()\n",
    "rounds = 19\n",
    "steps = 90\n",
    "oldsteps = 0\n",
    "newsteps = steps\n",
    "rad = 0\n",
    "for k in range(0,rounds):\n",
    "    for a in range(oldsteps,newsteps):\n",
    "        r = radians(a)\n",
    "        const = 0.2\n",
    "        x = pow(e,const*r) * cos(r)\n",
    "        y = pow(e,const*r) * sin(r)\n",
    "        z = pow(e,const*r) * 0.2\n",
    "        v = vector(x,y,z) \n",
    "        rad = pow(e,const*r) * 0.6\n",
    "        c.append(v,radius = rad)\n",
    "    oldsteps = newsteps;\n",
    "    newsteps = newsteps + steps"
   ]
  },
  {
   "cell_type": "markdown",
   "metadata": {},
   "source": [
    "## Extrusion"
   ]
  },
  {
   "cell_type": "code",
   "execution_count": 8,
   "metadata": {
    "scrolled": false
   },
   "outputs": [
    {
     "data": {
      "text/html": [
       "<div id=\"glowscript\" class=\"glowscript\"></div>"
      ],
      "text/plain": [
       "<IPython.core.display.HTML object>"
      ]
     },
     "metadata": {},
     "output_type": "display_data"
    },
    {
     "data": {
      "application/javascript": [
       "window.__context = { glowscript_container: $(\"#glowscript\").removeAttr(\"id\")}"
      ],
      "text/plain": [
       "<IPython.core.display.Javascript object>"
      ]
     },
     "metadata": {},
     "output_type": "display_data"
    }
   ],
   "source": [
    "createCanvas()\n",
    "tri = [ [2,0,0], [0,4,0], [-2,0,0], [2,0,0] ]\n",
    "tripath = [ vec(1,0,0), vec(0,0,-2), vec(-1,0,0), vec(1,0,0) ]\n",
    "extrusion(path=tripath, shape=tri)"
   ]
  },
  {
   "cell_type": "code",
   "execution_count": 9,
   "metadata": {},
   "outputs": [
    {
     "data": {
      "text/html": [
       "<div id=\"glowscript\" class=\"glowscript\"></div>"
      ],
      "text/plain": [
       "<IPython.core.display.HTML object>"
      ]
     },
     "metadata": {},
     "output_type": "display_data"
    },
    {
     "data": {
      "application/javascript": [
       "window.__context = { glowscript_container: $(\"#glowscript\").removeAttr(\"id\")}"
      ],
      "text/plain": [
       "<IPython.core.display.Javascript object>"
      ]
     },
     "metadata": {},
     "output_type": "display_data"
    }
   ],
   "source": [
    "createCanvas()\n",
    "#circ = shapes.circle(radius=3)\n",
    "tri = [ [2,0,0], [0,4,0], [-2,0,0], [2,0,0] ]\n",
    "circpath = paths.circle(radius=3)\n",
    "extrusion(path=circpath, shape=tri)"
   ]
  },
  {
   "cell_type": "code",
   "execution_count": 11,
   "metadata": {},
   "outputs": [
    {
     "data": {
      "text/html": [
       "<div id=\"glowscript\" class=\"glowscript\"></div>"
      ],
      "text/plain": [
       "<IPython.core.display.HTML object>"
      ]
     },
     "metadata": {},
     "output_type": "display_data"
    },
    {
     "data": {
      "application/javascript": [
       "window.__context = { glowscript_container: $(\"#glowscript\").removeAttr(\"id\")}"
      ],
      "text/plain": [
       "<IPython.core.display.Javascript object>"
      ]
     },
     "metadata": {},
     "output_type": "display_data"
    }
   ],
   "source": [
    "createCanvas()\n",
    "rounds = 12\n",
    "steps = 90\n",
    "oldsteps = 0\n",
    "newsteps = steps\n",
    "circ = [ [2,0,0], [0,4,0], [-2,0,0], [2,0,0] ]\n",
    "pathi = []\n",
    "for k in range(0,rounds):\n",
    "    for a in range(oldsteps,newsteps):\n",
    "        r = radians(a)\n",
    "        const = 0.2\n",
    "        x = pow(e,const*r) * cos(r)\n",
    "        y = pow(e,const*r) * sin(r) \n",
    "        v = vector(x,y,r)\n",
    "        pathi.append(v)\n",
    "    oldsteps = newsteps;\n",
    "    newsteps = newsteps + steps \n",
    "extrusion(path=pathi, shape=circ,pos=vec(-1,0,0), axis=vec(0,0,1))"
   ]
  },
  {
   "cell_type": "code",
   "execution_count": 10,
   "metadata": {},
   "outputs": [
    {
     "data": {
      "text/html": [
       "<div id=\"glowscript\" class=\"glowscript\"></div>"
      ],
      "text/plain": [
       "<IPython.core.display.HTML object>"
      ]
     },
     "metadata": {},
     "output_type": "display_data"
    },
    {
     "data": {
      "application/javascript": [
       "window.__context = { glowscript_container: $(\"#glowscript\").removeAttr(\"id\")}"
      ],
      "text/plain": [
       "<IPython.core.display.Javascript object>"
      ]
     },
     "metadata": {},
     "output_type": "display_data"
    }
   ],
   "source": [
    "createCanvas()\n",
    "extrusion(path=[vec(0,0,0), vec(2,0,0)], shape=shapes.circle(radius=0.6, thickness=0.2),\n",
    "                    pos=vec(-1,1.7,0), axis=vec(0,0,2), color=color.yellow, end_face_color=color.blue)"
   ]
  },
  {
   "cell_type": "code",
   "execution_count": null,
   "metadata": {},
   "outputs": [],
   "source": []
  }
 ],
 "metadata": {
  "kernelspec": {
   "display_name": "VPython",
   "language": "python",
   "name": "vpython"
  },
  "language_info": {
   "codemirror_mode": {
    "name": "ipython",
    "version": 3
   },
   "file_extension": ".py",
   "mimetype": "text/x-python",
   "name": "python",
   "nbconvert_exporter": "python",
   "pygments_lexer": "ipython3",
   "version": "3.6.4"
  }
 },
 "nbformat": 4,
 "nbformat_minor": 2
}
