{
 "cells": [
  {
   "cell_type": "code",
   "execution_count": 1,
   "metadata": {},
   "outputs": [],
   "source": [
    "from graphics import *\n",
    "import numpy as np"
   ]
  },
  {
   "cell_type": "code",
   "execution_count": 12,
   "metadata": {},
   "outputs": [],
   "source": [
    "win = GraphWin(\"Box\", 500, 500);\n",
    "posx = 10\n",
    "posy = 10\n",
    "radius = 10\n",
    "rows = 25\n",
    "columns = 25\n",
    "\n",
    "def main():\n",
    "    global win, rows, posy, posx, columns\n",
    "    for j in range(rows):\n",
    "        for i in range(columns):\n",
    "            drawCircle()\n",
    "        posy += radius * 2\n",
    "        posx = 10\n",
    "    win.getMouse() # pause for click in window\n",
    "    win.close()\n",
    "    \n",
    "def drawCircle():\n",
    "    global win,posx,posy,radius\n",
    "    c = Circle(Point(posx,posy), radius)\n",
    "    c.draw(win)\n",
    "    posx += radius * 2;\n",
    "\n",
    "    \n",
    "main()"
   ]
  },
  {
   "cell_type": "code",
   "execution_count": 5,
   "metadata": {},
   "outputs": [
    {
     "name": "stdout",
     "output_type": "stream",
     "text": [
      "[[ 25.20147021 -12.84079044]]\n",
      "[[ 25.20147021 -12.84079044]]\n",
      "[[ 25.20147021 -12.84079044]]\n",
      "[[ 25.20147021 -12.84079044]]\n",
      "[[ 25.20147021 -12.84079044]]\n",
      "[[ 25.20147021 -12.84079044]]\n",
      "[[ 25.20147021 -12.84079044]]\n",
      "[[ 25.20147021 -12.84079044]]\n",
      "[[ 25.20147021 -12.84079044]]\n",
      "[[ 25.20147021 -12.84079044]]\n",
      "[[ 25.20147021 -12.84079044]]\n",
      "[[ 25.20147021 -12.84079044]]\n",
      "[[ 25.20147021 -12.84079044]]\n",
      "[[ 25.20147021 -12.84079044]]\n",
      "[[ 25.20147021 -12.84079044]]\n",
      "[[ 25.20147021 -12.84079044]]\n",
      "[[ 25.20147021 -12.84079044]]\n",
      "[[ 25.20147021 -12.84079044]]\n",
      "[[ 25.20147021 -12.84079044]]\n",
      "[[ 25.20147021 -12.84079044]]\n"
     ]
    }
   ],
   "source": [
    "win = GraphWin(\"Box\", 500, 500);\n",
    "posx = 10\n",
    "posy = 10\n",
    "radius = 10\n",
    "rows = 1\n",
    "columns = 1\n",
    "\n",
    "def main():\n",
    "    global win, rows, posy, posx, columns\n",
    "    for j in range(rows):\n",
    "        for i in range(columns):\n",
    "            drawLine()\n",
    "        posy += radius * 2\n",
    "        posx = 10\n",
    "    win.getMouse() # pause for click in window\n",
    "    win.close()\n",
    "    \n",
    "def drawLine():\n",
    "    global win,posx,posy,radius\n",
    "    rx = posx+10\n",
    "    ry = posy+10\n",
    "    rm = rotationMatrix(360/5)\n",
    "    #print(rm)\n",
    "    for i in range(20):\n",
    "        a = Polygon([Point(posx,posy), Point(rx,ry)])\n",
    "        a.draw(win)\n",
    "        newpoints = np.matmul([rx, ry],rm)\n",
    "        print(newpoints)\n",
    "        #rx = newpoints[0,0]\n",
    "        #ry = newpoints[0,1]\n",
    "    posx += radius * 2;\n",
    "\n",
    "def rotationMatrix(angle):\n",
    "    radians = np.radians(angle)\n",
    "    c, s = np.cos(radians), np.sin(radians)\n",
    "    matrix = np.matrix([[c, -s], [s, c]])\n",
    "    return matrix\n",
    "    \n",
    "main()"
   ]
  },
  {
   "cell_type": "code",
   "execution_count": 3,
   "metadata": {},
   "outputs": [
    {
     "ename": "GraphicsError",
     "evalue": "Can't draw to closed window",
     "output_type": "error",
     "traceback": [
      "\u001b[0;31m---------------------------------------------------------------------------\u001b[0m",
      "\u001b[0;31mGraphicsError\u001b[0m                             Traceback (most recent call last)",
      "\u001b[0;32m<ipython-input-3-44d4ae9ac76a>\u001b[0m in \u001b[0;36m<module>\u001b[0;34m()\u001b[0m\n\u001b[1;32m     24\u001b[0m \u001b[0;34m\u001b[0m\u001b[0m\n\u001b[1;32m     25\u001b[0m \u001b[0;34m\u001b[0m\u001b[0m\n\u001b[0;32m---> 26\u001b[0;31m \u001b[0mmain\u001b[0m\u001b[0;34m(\u001b[0m\u001b[0;34m)\u001b[0m\u001b[0;34m\u001b[0m\u001b[0m\n\u001b[0m",
      "\u001b[0;32m<ipython-input-3-44d4ae9ac76a>\u001b[0m in \u001b[0;36mmain\u001b[0;34m()\u001b[0m\n\u001b[1;32m     10\u001b[0m     \u001b[0;32mfor\u001b[0m \u001b[0mj\u001b[0m \u001b[0;32min\u001b[0m \u001b[0mrange\u001b[0m\u001b[0;34m(\u001b[0m\u001b[0mrows\u001b[0m\u001b[0;34m)\u001b[0m\u001b[0;34m:\u001b[0m\u001b[0;34m\u001b[0m\u001b[0m\n\u001b[1;32m     11\u001b[0m         \u001b[0;32mfor\u001b[0m \u001b[0mi\u001b[0m \u001b[0;32min\u001b[0m \u001b[0mrange\u001b[0m\u001b[0;34m(\u001b[0m\u001b[0mcolumns\u001b[0m\u001b[0;34m)\u001b[0m\u001b[0;34m:\u001b[0m\u001b[0;34m\u001b[0m\u001b[0m\n\u001b[0;32m---> 12\u001b[0;31m             \u001b[0mdrawTriangle\u001b[0m\u001b[0;34m(\u001b[0m\u001b[0;34m)\u001b[0m\u001b[0;34m\u001b[0m\u001b[0m\n\u001b[0m\u001b[1;32m     13\u001b[0m         \u001b[0mposy\u001b[0m \u001b[0;34m+=\u001b[0m \u001b[0mradius\u001b[0m \u001b[0;34m*\u001b[0m \u001b[0;36m2\u001b[0m\u001b[0;34m\u001b[0m\u001b[0m\n\u001b[1;32m     14\u001b[0m         \u001b[0mposx\u001b[0m \u001b[0;34m=\u001b[0m \u001b[0;36m10\u001b[0m\u001b[0;34m\u001b[0m\u001b[0m\n",
      "\u001b[0;32m<ipython-input-3-44d4ae9ac76a>\u001b[0m in \u001b[0;36mdrawTriangle\u001b[0;34m()\u001b[0m\n\u001b[1;32m     20\u001b[0m     \u001b[0ma\u001b[0m \u001b[0;34m=\u001b[0m \u001b[0mPolygon\u001b[0m\u001b[0;34m(\u001b[0m\u001b[0;34m[\u001b[0m\u001b[0mPoint\u001b[0m\u001b[0;34m(\u001b[0m\u001b[0;36m1\u001b[0m\u001b[0;34m,\u001b[0m\u001b[0;36m2\u001b[0m\u001b[0;34m)\u001b[0m\u001b[0;34m,\u001b[0m \u001b[0mPoint\u001b[0m\u001b[0;34m(\u001b[0m\u001b[0mposx\u001b[0m\u001b[0;34m,\u001b[0m\u001b[0mposy\u001b[0m\u001b[0;34m)\u001b[0m\u001b[0;34m]\u001b[0m\u001b[0;34m)\u001b[0m\u001b[0;34m\u001b[0m\u001b[0m\n\u001b[1;32m     21\u001b[0m     \u001b[0;31m#c = Circle(Point(posx,posy), radius)\u001b[0m\u001b[0;34m\u001b[0m\u001b[0;34m\u001b[0m\u001b[0m\n\u001b[0;32m---> 22\u001b[0;31m     \u001b[0ma\u001b[0m\u001b[0;34m.\u001b[0m\u001b[0mdraw\u001b[0m\u001b[0;34m(\u001b[0m\u001b[0mwin\u001b[0m\u001b[0;34m)\u001b[0m\u001b[0;34m\u001b[0m\u001b[0m\n\u001b[0m\u001b[1;32m     23\u001b[0m     \u001b[0mposx\u001b[0m \u001b[0;34m+=\u001b[0m \u001b[0mradius\u001b[0m \u001b[0;34m*\u001b[0m \u001b[0;36m2\u001b[0m\u001b[0;34m;\u001b[0m\u001b[0;34m\u001b[0m\u001b[0m\n\u001b[1;32m     24\u001b[0m \u001b[0;34m\u001b[0m\u001b[0m\n",
      "\u001b[0;32m/anaconda3/lib/python3.6/site-packages/graphics/__init__.py\u001b[0m in \u001b[0;36mdraw\u001b[0;34m(self, graphwin)\u001b[0m\n\u001b[1;32m    480\u001b[0m \u001b[0;34m\u001b[0m\u001b[0m\n\u001b[1;32m    481\u001b[0m         \u001b[0;32mif\u001b[0m \u001b[0mself\u001b[0m\u001b[0;34m.\u001b[0m\u001b[0mcanvas\u001b[0m \u001b[0;32mand\u001b[0m \u001b[0;32mnot\u001b[0m \u001b[0mself\u001b[0m\u001b[0;34m.\u001b[0m\u001b[0mcanvas\u001b[0m\u001b[0;34m.\u001b[0m\u001b[0misClosed\u001b[0m\u001b[0;34m(\u001b[0m\u001b[0;34m)\u001b[0m\u001b[0;34m:\u001b[0m \u001b[0;32mraise\u001b[0m \u001b[0mGraphicsError\u001b[0m\u001b[0;34m(\u001b[0m\u001b[0mOBJ_ALREADY_DRAWN\u001b[0m\u001b[0;34m)\u001b[0m\u001b[0;34m\u001b[0m\u001b[0m\n\u001b[0;32m--> 482\u001b[0;31m         \u001b[0;32mif\u001b[0m \u001b[0mgraphwin\u001b[0m\u001b[0;34m.\u001b[0m\u001b[0misClosed\u001b[0m\u001b[0;34m(\u001b[0m\u001b[0;34m)\u001b[0m\u001b[0;34m:\u001b[0m \u001b[0;32mraise\u001b[0m \u001b[0mGraphicsError\u001b[0m\u001b[0;34m(\u001b[0m\u001b[0;34m\"Can't draw to closed window\"\u001b[0m\u001b[0;34m)\u001b[0m\u001b[0;34m\u001b[0m\u001b[0m\n\u001b[0m\u001b[1;32m    483\u001b[0m         \u001b[0mself\u001b[0m\u001b[0;34m.\u001b[0m\u001b[0mcanvas\u001b[0m \u001b[0;34m=\u001b[0m \u001b[0mgraphwin\u001b[0m\u001b[0;34m\u001b[0m\u001b[0m\n\u001b[1;32m    484\u001b[0m         \u001b[0mself\u001b[0m\u001b[0;34m.\u001b[0m\u001b[0mid\u001b[0m \u001b[0;34m=\u001b[0m \u001b[0mself\u001b[0m\u001b[0;34m.\u001b[0m\u001b[0m_draw\u001b[0m\u001b[0;34m(\u001b[0m\u001b[0mgraphwin\u001b[0m\u001b[0;34m,\u001b[0m \u001b[0mself\u001b[0m\u001b[0;34m.\u001b[0m\u001b[0mconfig\u001b[0m\u001b[0;34m)\u001b[0m\u001b[0;34m\u001b[0m\u001b[0m\n",
      "\u001b[0;31mGraphicsError\u001b[0m: Can't draw to closed window"
     ]
    }
   ],
   "source": [
    "win = GraphWin(\"Box\", 500, 500);\n",
    "posx = 10\n",
    "posy = 10\n",
    "radius = 10\n",
    "rows = 25\n",
    "columns = 25\n",
    "\n",
    "def main():\n",
    "    global win, rows, posy, posx, columns\n",
    "    for j in range(rows):\n",
    "        for i in range(columns):\n",
    "            drawTriangle()\n",
    "        posy += radius * 2\n",
    "        posx = 10\n",
    "    win.getMouse() # pause for click in window\n",
    "    win.close()\n",
    "    \n",
    "def drawTriangle():\n",
    "    global win,posx,posy,radius\n",
    "    a = Polygon([Point(1,2), Point(posx,posy)])\n",
    "    #c = Circle(Point(posx,posy), radius)\n",
    "    a.draw(win)\n",
    "    posx += radius * 2;\n",
    "\n",
    "    \n",
    "main()"
   ]
  },
  {
   "cell_type": "code",
   "execution_count": null,
   "metadata": {},
   "outputs": [],
   "source": []
  }
 ],
 "metadata": {
  "kernelspec": {
   "display_name": "Python 3",
   "language": "python",
   "name": "python3"
  },
  "language_info": {
   "codemirror_mode": {
    "name": "ipython",
    "version": 3
   },
   "file_extension": ".py",
   "mimetype": "text/x-python",
   "name": "python",
   "nbconvert_exporter": "python",
   "pygments_lexer": "ipython3",
   "version": "3.6.4"
  }
 },
 "nbformat": 4,
 "nbformat_minor": 2
}
